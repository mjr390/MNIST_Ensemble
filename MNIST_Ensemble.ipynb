{
 "cells": [
  {
   "cell_type": "code",
   "execution_count": 1,
   "metadata": {},
   "outputs": [],
   "source": [
    "import pandas as pd\n",
    "import numpy as np\n",
    "from sklearn.datasets import fetch_openml\n",
    "np.random.seed(42)\n",
    "mnist = fetch_openml('mnist_784', version=1, cache=True)\n",
    "mnist.target = mnist.target.astype(np.int8) \n",
    "from sklearn.metrics import accuracy_score"
   ]
  },
  {
   "cell_type": "code",
   "execution_count": 2,
   "metadata": {},
   "outputs": [
    {
     "data": {
      "text/plain": [
       "((70000, 784), (70000,))"
      ]
     },
     "execution_count": 2,
     "metadata": {},
     "output_type": "execute_result"
    }
   ],
   "source": [
    "X, y = mnist['data'], mnist['target']\n",
    "X.shape, y.shape"
   ]
  },
  {
   "cell_type": "code",
   "execution_count": 3,
   "metadata": {},
   "outputs": [
    {
     "data": {
      "text/plain": [
       "((50000, 784), (10000, 784), (10000, 784), (50000,), (10000,), (10000,))"
      ]
     },
     "execution_count": 3,
     "metadata": {},
     "output_type": "execute_result"
    }
   ],
   "source": [
    "X_train, X_val, X_test, y_train, y_val, y_test = X[:50000], X[50000:60000], X[60000:], y[:50000], y[50000:60000], y[60000:]\n",
    "X_train.shape, X_val.shape, X_test.shape, y_train.shape, y_val.shape, y_test.shape"
   ]
  },
  {
   "cell_type": "code",
   "execution_count": 4,
   "metadata": {},
   "outputs": [],
   "source": [
    "shuffle_index = np.random.permutation(50000)\n",
    "X_train, y_train = X_train[shuffle_index], y_train[shuffle_index]"
   ]
  },
  {
   "cell_type": "code",
   "execution_count": 5,
   "metadata": {},
   "outputs": [
    {
     "data": {
      "text/plain": [
       "KNeighborsClassifier(algorithm='auto', leaf_size=30, metric='minkowski',\n",
       "                     metric_params=None, n_jobs=-1, n_neighbors=4, p=2,\n",
       "                     weights='distance')"
      ]
     },
     "execution_count": 5,
     "metadata": {},
     "output_type": "execute_result"
    }
   ],
   "source": [
    "# KNN Model\n",
    "from sklearn.neighbors import KNeighborsClassifier\n",
    "\n",
    "knn_clf = KNeighborsClassifier(n_jobs=-1, weights='distance', n_neighbors=4)\n",
    "knn_clf.fit(X_train, y_train)"
   ]
  },
  {
   "cell_type": "code",
   "execution_count": 10,
   "metadata": {},
   "outputs": [
    {
     "data": {
      "text/plain": [
       "0.9741"
      ]
     },
     "execution_count": 10,
     "metadata": {},
     "output_type": "execute_result"
    }
   ],
   "source": [
    "y_train_knn_pred = knn_clf.predict(X_val)\n",
    "accuracy_score(y_val, y_train_knn_pred)"
   ]
  },
  {
   "cell_type": "code",
   "execution_count": 6,
   "metadata": {},
   "outputs": [
    {
     "data": {
      "text/plain": [
       "SVC(C=1.0, break_ties=False, cache_size=200, class_weight=None, coef0=0.0,\n",
       "    decision_function_shape='ovr', degree=3, gamma='scale', kernel='rbf',\n",
       "    max_iter=-1, probability=False, random_state=None, shrinking=True,\n",
       "    tol=0.001, verbose=False)"
      ]
     },
     "execution_count": 6,
     "metadata": {},
     "output_type": "execute_result"
    }
   ],
   "source": [
    "# SVC Model\n",
    "from sklearn.svm import SVC\n",
    "svc_clf = SVC()\n",
    "svc_clf.fit(X_train, y_train)"
   ]
  },
  {
   "cell_type": "code",
   "execution_count": 9,
   "metadata": {},
   "outputs": [
    {
     "data": {
      "text/plain": [
       "0.9802"
      ]
     },
     "execution_count": 9,
     "metadata": {},
     "output_type": "execute_result"
    }
   ],
   "source": [
    "y_train_svc_pred = svc_clf.predict(X_val)\n",
    "accuracy_score(y_val, y_train_svc_pred)"
   ]
  },
  {
   "cell_type": "code",
   "execution_count": 7,
   "metadata": {},
   "outputs": [
    {
     "data": {
      "text/plain": [
       "SGDClassifier(alpha=0.0001, average=False, class_weight=None,\n",
       "              early_stopping=False, epsilon=0.1, eta0=0.0, fit_intercept=True,\n",
       "              l1_ratio=0.15, learning_rate='optimal', loss='hinge',\n",
       "              max_iter=1000, n_iter_no_change=5, n_jobs=None, penalty='l2',\n",
       "              power_t=0.5, random_state=0, shuffle=True, tol=0.001,\n",
       "              validation_fraction=0.1, verbose=0, warm_start=False)"
      ]
     },
     "execution_count": 7,
     "metadata": {},
     "output_type": "execute_result"
    }
   ],
   "source": [
    "# SGD Model\n",
    "from sklearn.linear_model import SGDClassifier\n",
    "sgd_clf = SGDClassifier(random_state = 0)\n",
    "sgd_clf.fit(X_train, y_train)"
   ]
  },
  {
   "cell_type": "code",
   "execution_count": 13,
   "metadata": {},
   "outputs": [
    {
     "data": {
      "text/plain": [
       "0.8685"
      ]
     },
     "execution_count": 13,
     "metadata": {},
     "output_type": "execute_result"
    }
   ],
   "source": [
    "y_train_sgd_pred = sgd_clf.predict(X_val)\n",
    "accuracy_score(y_val, y_train_sgd_pred)"
   ]
  },
  {
   "cell_type": "code",
   "execution_count": 5,
   "metadata": {},
   "outputs": [
    {
     "name": "stdout",
     "output_type": "stream",
     "text": [
      "Fitting 5 folds for each of 16 candidates, totalling 80 fits\n",
      "[CV] max_depth=3, n_estimators=50 ....................................\n"
     ]
    },
    {
     "name": "stderr",
     "output_type": "stream",
     "text": [
      "[Parallel(n_jobs=1)]: Using backend SequentialBackend with 1 concurrent workers.\n"
     ]
    },
    {
     "name": "stdout",
     "output_type": "stream",
     "text": [
      "[CV] ..................... max_depth=3, n_estimators=50, total=   4.8s\n",
      "[CV] max_depth=3, n_estimators=50 ....................................\n"
     ]
    },
    {
     "name": "stderr",
     "output_type": "stream",
     "text": [
      "[Parallel(n_jobs=1)]: Done   1 out of   1 | elapsed:    4.7s remaining:    0.0s\n"
     ]
    },
    {
     "name": "stdout",
     "output_type": "stream",
     "text": [
      "[CV] ..................... max_depth=3, n_estimators=50, total=   4.3s\n",
      "[CV] max_depth=3, n_estimators=50 ....................................\n",
      "[CV] ..................... max_depth=3, n_estimators=50, total=   3.8s\n",
      "[CV] max_depth=3, n_estimators=50 ....................................\n",
      "[CV] ..................... max_depth=3, n_estimators=50, total=   3.5s\n",
      "[CV] max_depth=3, n_estimators=50 ....................................\n",
      "[CV] ..................... max_depth=3, n_estimators=50, total=   3.5s\n",
      "[CV] max_depth=3, n_estimators=100 ...................................\n",
      "[CV] .................... max_depth=3, n_estimators=100, total=   6.9s\n",
      "[CV] max_depth=3, n_estimators=100 ...................................\n",
      "[CV] .................... max_depth=3, n_estimators=100, total=   6.8s\n",
      "[CV] max_depth=3, n_estimators=100 ...................................\n",
      "[CV] .................... max_depth=3, n_estimators=100, total=   6.8s\n",
      "[CV] max_depth=3, n_estimators=100 ...................................\n",
      "[CV] .................... max_depth=3, n_estimators=100, total=   6.8s\n",
      "[CV] max_depth=3, n_estimators=100 ...................................\n",
      "[CV] .................... max_depth=3, n_estimators=100, total=   6.8s\n",
      "[CV] max_depth=3, n_estimators=200 ...................................\n",
      "[CV] .................... max_depth=3, n_estimators=200, total=  13.4s\n",
      "[CV] max_depth=3, n_estimators=200 ...................................\n",
      "[CV] .................... max_depth=3, n_estimators=200, total=  13.4s\n",
      "[CV] max_depth=3, n_estimators=200 ...................................\n",
      "[CV] .................... max_depth=3, n_estimators=200, total=  13.5s\n",
      "[CV] max_depth=3, n_estimators=200 ...................................\n",
      "[CV] .................... max_depth=3, n_estimators=200, total=  13.4s\n",
      "[CV] max_depth=3, n_estimators=200 ...................................\n",
      "[CV] .................... max_depth=3, n_estimators=200, total=  13.4s\n",
      "[CV] max_depth=3, n_estimators=500 ...................................\n",
      "[CV] .................... max_depth=3, n_estimators=500, total=  33.2s\n",
      "[CV] max_depth=3, n_estimators=500 ...................................\n",
      "[CV] .................... max_depth=3, n_estimators=500, total=  33.2s\n",
      "[CV] max_depth=3, n_estimators=500 ...................................\n",
      "[CV] .................... max_depth=3, n_estimators=500, total=  33.4s\n",
      "[CV] max_depth=3, n_estimators=500 ...................................\n",
      "[CV] .................... max_depth=3, n_estimators=500, total=  33.3s\n",
      "[CV] max_depth=3, n_estimators=500 ...................................\n",
      "[CV] .................... max_depth=3, n_estimators=500, total=  33.3s\n",
      "[CV] max_depth=5, n_estimators=50 ....................................\n",
      "[CV] ..................... max_depth=5, n_estimators=50, total=   5.5s\n",
      "[CV] max_depth=5, n_estimators=50 ....................................\n",
      "[CV] ..................... max_depth=5, n_estimators=50, total=   5.4s\n",
      "[CV] max_depth=5, n_estimators=50 ....................................\n",
      "[CV] ..................... max_depth=5, n_estimators=50, total=   5.5s\n",
      "[CV] max_depth=5, n_estimators=50 ....................................\n",
      "[CV] ..................... max_depth=5, n_estimators=50, total=   5.6s\n",
      "[CV] max_depth=5, n_estimators=50 ....................................\n",
      "[CV] ..................... max_depth=5, n_estimators=50, total=   5.5s\n",
      "[CV] max_depth=5, n_estimators=100 ...................................\n",
      "[CV] .................... max_depth=5, n_estimators=100, total=  10.7s\n",
      "[CV] max_depth=5, n_estimators=100 ...................................\n",
      "[CV] .................... max_depth=5, n_estimators=100, total=  10.8s\n",
      "[CV] max_depth=5, n_estimators=100 ...................................\n",
      "[CV] .................... max_depth=5, n_estimators=100, total=  10.6s\n",
      "[CV] max_depth=5, n_estimators=100 ...................................\n",
      "[CV] .................... max_depth=5, n_estimators=100, total=  10.6s\n",
      "[CV] max_depth=5, n_estimators=100 ...................................\n",
      "[CV] .................... max_depth=5, n_estimators=100, total=  10.3s\n",
      "[CV] max_depth=5, n_estimators=200 ...................................\n",
      "[CV] .................... max_depth=5, n_estimators=200, total=  20.5s\n",
      "[CV] max_depth=5, n_estimators=200 ...................................\n",
      "[CV] .................... max_depth=5, n_estimators=200, total=  20.2s\n",
      "[CV] max_depth=5, n_estimators=200 ...................................\n",
      "[CV] .................... max_depth=5, n_estimators=200, total=  20.6s\n",
      "[CV] max_depth=5, n_estimators=200 ...................................\n",
      "[CV] .................... max_depth=5, n_estimators=200, total=  20.6s\n",
      "[CV] max_depth=5, n_estimators=200 ...................................\n",
      "[CV] .................... max_depth=5, n_estimators=200, total=  20.5s\n",
      "[CV] max_depth=5, n_estimators=500 ...................................\n",
      "[CV] .................... max_depth=5, n_estimators=500, total=  51.2s\n",
      "[CV] max_depth=5, n_estimators=500 ...................................\n",
      "[CV] .................... max_depth=5, n_estimators=500, total=  51.1s\n",
      "[CV] max_depth=5, n_estimators=500 ...................................\n",
      "[CV] .................... max_depth=5, n_estimators=500, total=  50.7s\n",
      "[CV] max_depth=5, n_estimators=500 ...................................\n",
      "[CV] .................... max_depth=5, n_estimators=500, total=  50.5s\n",
      "[CV] max_depth=5, n_estimators=500 ...................................\n",
      "[CV] .................... max_depth=5, n_estimators=500, total=  51.0s\n",
      "[CV] max_depth=7, n_estimators=50 ....................................\n",
      "[CV] ..................... max_depth=7, n_estimators=50, total=   6.9s\n",
      "[CV] max_depth=7, n_estimators=50 ....................................\n",
      "[CV] ..................... max_depth=7, n_estimators=50, total=   6.9s\n",
      "[CV] max_depth=7, n_estimators=50 ....................................\n",
      "[CV] ..................... max_depth=7, n_estimators=50, total=   7.1s\n",
      "[CV] max_depth=7, n_estimators=50 ....................................\n",
      "[CV] ..................... max_depth=7, n_estimators=50, total=   7.2s\n",
      "[CV] max_depth=7, n_estimators=50 ....................................\n",
      "[CV] ..................... max_depth=7, n_estimators=50, total=   7.3s\n",
      "[CV] max_depth=7, n_estimators=100 ...................................\n",
      "[CV] .................... max_depth=7, n_estimators=100, total=  13.6s\n",
      "[CV] max_depth=7, n_estimators=100 ...................................\n",
      "[CV] .................... max_depth=7, n_estimators=100, total=  13.7s\n",
      "[CV] max_depth=7, n_estimators=100 ...................................\n",
      "[CV] .................... max_depth=7, n_estimators=100, total=  13.7s\n",
      "[CV] max_depth=7, n_estimators=100 ...................................\n",
      "[CV] .................... max_depth=7, n_estimators=100, total=  13.6s\n",
      "[CV] max_depth=7, n_estimators=100 ...................................\n",
      "[CV] .................... max_depth=7, n_estimators=100, total=  13.6s\n",
      "[CV] max_depth=7, n_estimators=200 ...................................\n",
      "[CV] .................... max_depth=7, n_estimators=200, total=  26.9s\n",
      "[CV] max_depth=7, n_estimators=200 ...................................\n",
      "[CV] .................... max_depth=7, n_estimators=200, total=  26.8s\n",
      "[CV] max_depth=7, n_estimators=200 ...................................\n",
      "[CV] .................... max_depth=7, n_estimators=200, total=  26.9s\n",
      "[CV] max_depth=7, n_estimators=200 ...................................\n",
      "[CV] .................... max_depth=7, n_estimators=200, total=  27.0s\n",
      "[CV] max_depth=7, n_estimators=200 ...................................\n",
      "[CV] .................... max_depth=7, n_estimators=200, total=  27.1s\n",
      "[CV] max_depth=7, n_estimators=500 ...................................\n",
      "[CV] .................... max_depth=7, n_estimators=500, total= 1.2min\n",
      "[CV] max_depth=7, n_estimators=500 ...................................\n",
      "[CV] .................... max_depth=7, n_estimators=500, total= 1.2min\n",
      "[CV] max_depth=7, n_estimators=500 ...................................\n",
      "[CV] .................... max_depth=7, n_estimators=500, total= 1.2min\n",
      "[CV] max_depth=7, n_estimators=500 ...................................\n",
      "[CV] .................... max_depth=7, n_estimators=500, total= 1.3min\n",
      "[CV] max_depth=7, n_estimators=500 ...................................\n"
     ]
    },
    {
     "name": "stdout",
     "output_type": "stream",
     "text": [
      "[CV] .................... max_depth=7, n_estimators=500, total= 1.2min\n",
      "[CV] max_depth=9, n_estimators=50 ....................................\n",
      "[CV] ..................... max_depth=9, n_estimators=50, total=   9.2s\n",
      "[CV] max_depth=9, n_estimators=50 ....................................\n",
      "[CV] ..................... max_depth=9, n_estimators=50, total=   9.4s\n",
      "[CV] max_depth=9, n_estimators=50 ....................................\n",
      "[CV] ..................... max_depth=9, n_estimators=50, total=   9.1s\n",
      "[CV] max_depth=9, n_estimators=50 ....................................\n",
      "[CV] ..................... max_depth=9, n_estimators=50, total=   9.0s\n",
      "[CV] max_depth=9, n_estimators=50 ....................................\n",
      "[CV] ..................... max_depth=9, n_estimators=50, total=   9.3s\n",
      "[CV] max_depth=9, n_estimators=100 ...................................\n",
      "[CV] .................... max_depth=9, n_estimators=100, total=  17.8s\n",
      "[CV] max_depth=9, n_estimators=100 ...................................\n",
      "[CV] .................... max_depth=9, n_estimators=100, total=  16.9s\n",
      "[CV] max_depth=9, n_estimators=100 ...................................\n",
      "[CV] .................... max_depth=9, n_estimators=100, total=  16.8s\n",
      "[CV] max_depth=9, n_estimators=100 ...................................\n",
      "[CV] .................... max_depth=9, n_estimators=100, total=  16.9s\n",
      "[CV] max_depth=9, n_estimators=100 ...................................\n",
      "[CV] .................... max_depth=9, n_estimators=100, total=  16.7s\n",
      "[CV] max_depth=9, n_estimators=200 ...................................\n",
      "[CV] .................... max_depth=9, n_estimators=200, total=  33.2s\n",
      "[CV] max_depth=9, n_estimators=200 ...................................\n",
      "[CV] .................... max_depth=9, n_estimators=200, total=  33.3s\n",
      "[CV] max_depth=9, n_estimators=200 ...................................\n",
      "[CV] .................... max_depth=9, n_estimators=200, total=  33.2s\n",
      "[CV] max_depth=9, n_estimators=200 ...................................\n",
      "[CV] .................... max_depth=9, n_estimators=200, total=  33.5s\n",
      "[CV] max_depth=9, n_estimators=200 ...................................\n",
      "[CV] .................... max_depth=9, n_estimators=200, total=  33.0s\n",
      "[CV] max_depth=9, n_estimators=500 ...................................\n",
      "[CV] .................... max_depth=9, n_estimators=500, total= 1.4min\n",
      "[CV] max_depth=9, n_estimators=500 ...................................\n",
      "[CV] .................... max_depth=9, n_estimators=500, total= 1.4min\n",
      "[CV] max_depth=9, n_estimators=500 ...................................\n",
      "[CV] .................... max_depth=9, n_estimators=500, total= 1.4min\n",
      "[CV] max_depth=9, n_estimators=500 ...................................\n",
      "[CV] .................... max_depth=9, n_estimators=500, total= 1.5min\n",
      "[CV] max_depth=9, n_estimators=500 ...................................\n",
      "[CV] .................... max_depth=9, n_estimators=500, total= 1.5min\n"
     ]
    },
    {
     "name": "stderr",
     "output_type": "stream",
     "text": [
      "[Parallel(n_jobs=1)]: Done  80 out of  80 | elapsed: 34.3min finished\n"
     ]
    },
    {
     "data": {
      "text/plain": [
       "GridSearchCV(cv=5, error_score=nan,\n",
       "             estimator=RandomForestClassifier(bootstrap=True, ccp_alpha=0.0,\n",
       "                                              class_weight=None,\n",
       "                                              criterion='gini', max_depth=None,\n",
       "                                              max_features='auto',\n",
       "                                              max_leaf_nodes=None,\n",
       "                                              max_samples=None,\n",
       "                                              min_impurity_decrease=0.0,\n",
       "                                              min_impurity_split=None,\n",
       "                                              min_samples_leaf=1,\n",
       "                                              min_samples_split=2,\n",
       "                                              min_weight_fraction_leaf=0.0,\n",
       "                                              n_estimators=100, n_jobs=None,\n",
       "                                              oob_score=False, random_state=0,\n",
       "                                              verbose=0, warm_start=False),\n",
       "             iid='deprecated', n_jobs=None,\n",
       "             param_grid={'max_depth': [3, 5, 7, 9],\n",
       "                         'n_estimators': [50, 100, 200, 500]},\n",
       "             pre_dispatch='2*n_jobs', refit=True, return_train_score=False,\n",
       "             scoring=None, verbose=2)"
      ]
     },
     "execution_count": 5,
     "metadata": {},
     "output_type": "execute_result"
    }
   ],
   "source": [
    "# Random Forest Model\n",
    "from sklearn.model_selection import GridSearchCV\n",
    "from sklearn.ensemble import RandomForestClassifier\n",
    "param_grid  ={\n",
    "    'n_estimators': [50, 100, 200, 500],\n",
    "    'max_depth': [3,5,7,9]\n",
    "}\n",
    "\n",
    "rfc = RandomForestClassifier(random_state=0)\n",
    "rfc_clf = GridSearchCV(estimator=rfc, param_grid=param_grid, cv= 5, verbose=2)\n",
    "rfc_clf.fit(X_train, y_train)"
   ]
  },
  {
   "cell_type": "code",
   "execution_count": 6,
   "metadata": {},
   "outputs": [
    {
     "name": "stdout",
     "output_type": "stream",
     "text": [
      "0.93668\n",
      "{'max_depth': 9, 'n_estimators': 500}\n",
      "RandomForestClassifier(bootstrap=True, ccp_alpha=0.0, class_weight=None,\n",
      "                       criterion='gini', max_depth=9, max_features='auto',\n",
      "                       max_leaf_nodes=None, max_samples=None,\n",
      "                       min_impurity_decrease=0.0, min_impurity_split=None,\n",
      "                       min_samples_leaf=1, min_samples_split=2,\n",
      "                       min_weight_fraction_leaf=0.0, n_estimators=500,\n",
      "                       n_jobs=None, oob_score=False, random_state=0, verbose=0,\n",
      "                       warm_start=False)\n"
     ]
    }
   ],
   "source": [
    "print (rfc_clf.best_score_)\n",
    "print (rfc_clf.best_params_)\n",
    "print (rfc_clf.best_estimator_)"
   ]
  },
  {
   "cell_type": "code",
   "execution_count": null,
   "metadata": {},
   "outputs": [],
   "source": []
  }
 ],
 "metadata": {
  "kernelspec": {
   "display_name": "Python 3",
   "language": "python",
   "name": "python3"
  },
  "language_info": {
   "codemirror_mode": {
    "name": "ipython",
    "version": 3
   },
   "file_extension": ".py",
   "mimetype": "text/x-python",
   "name": "python",
   "nbconvert_exporter": "python",
   "pygments_lexer": "ipython3",
   "version": "3.6.4"
  }
 },
 "nbformat": 4,
 "nbformat_minor": 4
}
